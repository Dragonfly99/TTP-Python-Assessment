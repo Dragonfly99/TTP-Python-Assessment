{
 "cells": [
  {
   "cell_type": "code",
   "execution_count": null,
   "metadata": {},
   "outputs": [],
   "source": [
    "''' #1\n",
    "Write a function called 'addBetween'.\n",
    "\n",
    "Given 2 integers, \"addBetween\" returns the sum \n",
    "of all numbers between the two given integers, \n",
    "beginning at num1, and excluding num2.\n",
    "\n",
    "\n",
    "If num2 is not greater than num1, the function should return 0.\n",
    "output = addBetween(3, 7)\n",
    "print(output) # --> 18\n",
    "'''\n",
    "\n",
    "\n"
   ]
  },
  {
   "cell_type": "code",
   "execution_count": 3,
   "metadata": {},
   "outputs": [
    {
     "data": {
      "text/plain": [
       "18"
      ]
     },
     "execution_count": 3,
     "metadata": {},
     "output_type": "execute_result"
    }
   ],
   "source": [
    "def addBetween(num1, num2):\n",
    "    if num2 > num1:\n",
    "        between = 0\n",
    "        for item in range(num1, num2):\n",
    "            between += item\n",
    "        return between\n",
    "    else:\n",
    "        return 0\n",
    "\n",
    "addBetween(3,7)"
   ]
  },
  {
   "cell_type": "code",
   "execution_count": null,
   "metadata": {},
   "outputs": [],
   "source": [
    "''' #2\n",
    "write a function called 'combine'\n",
    "\n",
    "Given two lists, combine returns a new list\n",
    "with all elements of both lists, sorted\n",
    "\n",
    "lst1 = ['b', 'c','a','f']\n",
    "lst2 = ['d','e','g']\n",
    "\n",
    "output = combine(lst1,lst2)\n",
    "print(output) # -> ['a','b','c','d','e','f', 'g']"
   ]
  },
  {
   "cell_type": "code",
   "execution_count": 21,
   "metadata": {},
   "outputs": [
    {
     "data": {
      "text/plain": [
       "['a', 'b', 'c', 'd', 'e', 'f', 'g']"
      ]
     },
     "execution_count": 21,
     "metadata": {},
     "output_type": "execute_result"
    }
   ],
   "source": [
    "lsta = ['b', 'c','a','f']\n",
    "lstb = ['d','e','g']\n",
    "\n",
    "def combine(lst1,lst2):\n",
    "    for item in (lst2):\n",
    "        lst1.append(item)\n",
    "    return sorted(lst1)\n",
    "combine(lsta,lstb)"
   ]
  },
  {
   "cell_type": "code",
   "execution_count": null,
   "metadata": {},
   "outputs": [],
   "source": [
    "''' #3\n",
    "write a function called 'switch'\n",
    "Given a dictionary, the function switch returns a new dictionary\n",
    "with the keys and values reversed\n",
    "\n",
    "d = {'cat': 1, 'dog':2, 'parrot':3, 'raptor':4, 'snake':5}\n",
    "output = switch(d)\n",
    "print(output) # -> {1:'cat', 2:'dog', 3:'parrot', 4:'raptor', 5:'snake'}\n",
    "\n",
    "'''"
   ]
  },
  {
   "cell_type": "code",
   "execution_count": 67,
   "metadata": {},
   "outputs": [
    {
     "data": {
      "text/plain": [
       "{1: 'cat', 2: 'dog', 3: 'parrot', 4: 'raptor', 5: 'snake'}"
      ]
     },
     "execution_count": 67,
     "metadata": {},
     "output_type": "execute_result"
    }
   ],
   "source": [
    "d = {'cat': 1, 'dog':2, 'parrot':3, 'raptor':4, 'snake':5}\n",
    "def switch(dic):\n",
    "    new_dic = {v: k for k, v in dic.items()}\n",
    "    return new_dic\n",
    "switch(d)    "
   ]
  },
  {
   "cell_type": "code",
   "execution_count": null,
   "metadata": {},
   "outputs": [],
   "source": [
    "''' #4\n",
    "Write a function called 'isSameLength'.\n",
    "\n",
    "Given two words, \"isSameLength\" returns whether the given \n",
    "words have the same length.\n",
    "\n",
    "output = isSameLength('words', 'super')\n",
    "print(output) # --> True\n",
    "'''"
   ]
  },
  {
   "cell_type": "code",
   "execution_count": 16,
   "metadata": {},
   "outputs": [
    {
     "data": {
      "text/plain": [
       "False"
      ]
     },
     "execution_count": 16,
     "metadata": {},
     "output_type": "execute_result"
    }
   ],
   "source": [
    "def isSameLength(wrd1,wrd2):\n",
    "    if len(wrd1) == len(wrd2):\n",
    "        return True\n",
    "    else:\n",
    "        return False\n",
    "    \n",
    "isSameLength('fred', 'jak')"
   ]
  },
  {
   "cell_type": "code",
   "execution_count": null,
   "metadata": {},
   "outputs": [],
   "source": [
    "''' #5\n",
    "write a function called 'stringToWords'\n",
    "given a string with two sentences, stringToWords\n",
    "separate the sentences into two lists of words, one for each sentence.\n",
    "\n",
    "string1 = \"This was a sentence. And it's now a list.\"\n",
    "output = stringToWords(string1)\n",
    "print(output) ->  ['This', 'was', 'a', 'sentence'],['And', \"it's\", 'now', 'a', 'list']\n",
    "\n",
    "'''\n"
   ]
  },
  {
   "cell_type": "code",
   "execution_count": 96,
   "metadata": {},
   "outputs": [
    {
     "name": "stdout",
     "output_type": "stream",
     "text": [
      "['This was a sentence', \" And it's now a list\", '']\n",
      "['This was a sentence', \" And it's now a list\", '']\n",
      "['This was a sentence', \" And it's now a list\", '']\n"
     ]
    }
   ],
   "source": [
    "string1 = \"This was a sentence. And it's now a list.\"\n",
    "def stringToWords(sentence):\n",
    "    x =  sentence.split('.')\n",
    "    for item in x:\n",
    "        print(list(x))\n",
    "\n",
    "stringToWords(string1)"
   ]
  },
  {
   "cell_type": "code",
   "execution_count": null,
   "metadata": {},
   "outputs": [],
   "source": [
    "''' #6\n",
    "write a function called 'bigSixSmall'\n",
    "\n",
    "given a list of numbers, bigSixSmall returns a new list:\n",
    "if the number from the list is > 6, the new list should have \"Big\" in it\n",
    "if the number from the list is 6, the new list should have \"Six\" in it\n",
    "if the number from the list is < 6, the list should say \"Small\"\n",
    "\n",
    "list1 = [1,7,2,6,13]\n",
    "\n",
    "output = bigSixSmall(list1)\n",
    "print(output)  #-> ['Small', 'Big', 'Small', 'Six', 'Big' ] \n",
    "'''\n",
    "\n"
   ]
  },
  {
   "cell_type": "code",
   "execution_count": 20,
   "metadata": {},
   "outputs": [
    {
     "data": {
      "text/plain": [
       "['Small', 'Big', 'Small', 'Six', 'Big']"
      ]
     },
     "execution_count": 20,
     "metadata": {},
     "output_type": "execute_result"
    }
   ],
   "source": [
    "wordlist = []\n",
    "list1 = [1,7,2,6,13]\n",
    "def bigSixSmall(lst):\n",
    "    for item in (lst):\n",
    "        if item > 6:\n",
    "            wordlist.append('Big')\n",
    "        elif item == 6:\n",
    "            wordlist.append('Six')\n",
    "        else:\n",
    "            wordlist.append('Small')\n",
    "    return wordlist\n",
    "\n",
    "bigSixSmall(list1)"
   ]
  },
  {
   "cell_type": "code",
   "execution_count": null,
   "metadata": {},
   "outputs": [],
   "source": [
    "''' #7\n",
    "Write a function called 'select'.\n",
    "\n",
    "Given list and a dictionary, \"select\" returns a new dictionary\n",
    "whose keys are those in the given dictionary which are present \n",
    "in the given list.\n",
    "\n",
    "Notes:\n",
    "\n",
    "If keys are present in the given list, but are not in the given \n",
    "dictionary, it should ignore them.\n",
    "It does not modify the passed in dictionary.\n",
    "input_list = ['a', 'c', 'e']\n",
    "input_dict = {'a': 1, 'b': 2, 'c': 3, 'd': 4}\n",
    "\n",
    "output = select(input_list, input_dict)\n",
    "print(output) # --> {'a': 1, 'c': 3}\n",
    "\n",
    "print(input_dict) # --> {'a': 1, 'b': 2, 'c': 3, 'd': 4}\n",
    "'''"
   ]
  },
  {
   "cell_type": "code",
   "execution_count": 121,
   "metadata": {},
   "outputs": [
    {
     "data": {
      "text/plain": [
       "{'a': 1, 'c': 3}"
      ]
     },
     "execution_count": 121,
     "metadata": {},
     "output_type": "execute_result"
    }
   ],
   "source": [
    "input_list = ['a', 'c', 'e']\n",
    "input_dict = {'a': 1, 'b': 2, 'c': 3, 'd': 4}\n",
    "\n",
    "values = []\n",
    "new_dic = {}\n",
    "def select(lst, dic):\n",
    "    for item in lst:\n",
    "        if item in dic.keys():\n",
    "            values = item\n",
    "            new_dic[item] = dic[values]\n",
    "    return(new_dic)\n",
    "\n",
    "select(input_list, input_dict)"
   ]
  },
  {
   "cell_type": "code",
   "execution_count": null,
   "metadata": {},
   "outputs": [],
   "source": [
    "''' #8\n",
    "Write a function called 'to_dictionary' that takes in\n",
    "a list of numbers as input\n",
    "and returns a dictionary.\n",
    "\n",
    "The keys should be each number from the input list,\n",
    "and the values should be \n",
    "True if the number is even \n",
    "or False if the number is odd\n",
    "\n",
    "output = to_dictionary([3,6,9,12,15])\n",
    "print(output) -->  {3:False, 6:True, 9:False, 12:True, 15:False}\n",
    "'''"
   ]
  },
  {
   "cell_type": "code",
   "execution_count": 94,
   "metadata": {},
   "outputs": [
    {
     "name": "stdout",
     "output_type": "stream",
     "text": [
      "{3: False, 6: True, 9: False, 12: True, 15: False}\n"
     ]
    }
   ],
   "source": [
    "word_list = []\n",
    "new_dict2 = {}\n",
    "def to_dictionary(lst):\n",
    "    for item in (lst):\n",
    "        if item % 2 == 0:\n",
    "            word_list.append(True)\n",
    "        else:word_list.append(False)\n",
    "    for item, key in enumerate(lst):\n",
    "        new_dict2[key] = word_list[item]\n",
    "    print(new_dict2)\n",
    "\n",
    "                \n",
    "to_dictionary([3,6,9,12,15])\n",
    "            "
   ]
  },
  {
   "cell_type": "code",
   "execution_count": null,
   "metadata": {},
   "outputs": [],
   "source": []
  }
 ],
 "metadata": {
  "kernelspec": {
   "display_name": "Python 3",
   "language": "python",
   "name": "python3"
  },
  "language_info": {
   "codemirror_mode": {
    "name": "ipython",
    "version": 3
   },
   "file_extension": ".py",
   "mimetype": "text/x-python",
   "name": "python",
   "nbconvert_exporter": "python",
   "pygments_lexer": "ipython3",
   "version": "3.7.3"
  }
 },
 "nbformat": 4,
 "nbformat_minor": 2
}
